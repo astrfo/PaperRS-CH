{
  "nbformat": 4,
  "nbformat_minor": 0,
  "metadata": {
    "colab": {
      "name": "AutonomousOptimalExplorationThroughSatisficing.ipynb",
      "provenance": [],
      "collapsed_sections": [],
      "authorship_tag": "ABX9TyObS2FPLoHYKuGtet7vaEXl",
      "include_colab_link": true
    },
    "kernelspec": {
      "name": "python3",
      "display_name": "Python 3"
    },
    "language_info": {
      "name": "python"
    }
  },
  "cells": [
    {
      "cell_type": "markdown",
      "metadata": {
        "id": "view-in-github",
        "colab_type": "text"
      },
      "source": [
        "<a href=\"https://colab.research.google.com/github/astrfo/AutonomousOptimalExplorationThroughSatisficing/blob/main/AutonomousOptimalExplorationThroughSatisficing.ipynb\" target=\"_parent\"><img src=\"https://colab.research.google.com/assets/colab-badge.svg\" alt=\"Open In Colab\"/></a>"
      ]
    },
    {
      "cell_type": "markdown",
      "metadata": {
        "id": "6iEnSCZ5hVHY"
      },
      "source": [
        "# 満足化に通じた最適な自律的探索"
      ]
    },
    {
      "cell_type": "markdown",
      "metadata": {
        "id": "uFPoz5Be9BCe"
      },
      "source": [
        "**2. 多腕バンディット問題**\n",
        "\n",
        "*   定義\n",
        "    *   基準値: $ R $\n",
        "    *   報酬： $ r \\quad (1 \\ or \\ 0)$\n",
        "    *   確率： $ p $\n",
        "    *   試行量：  $ n(a_i) $\n",
        "    *   経験期待値： $ V(a_i) $\n",
        "    *   学習率： $ \\alpha $\n",
        "    *   選択肢の数: $ K $\n",
        "    *   そのステップで選択された腕： $ a^{select} $\n",
        "    *   総試行量： $ N $\n",
        "\n",
        "*   初期値\n",
        "    *   $ n(a_i) = \\epsilon \\quad $ (微小)\n",
        "    *   $ V(a_i) = 0.5 $\n",
        "\n",
        "*   更新方法\n",
        "    *   $ \\alpha \\leftarrow \\frac{1}{1 + n(a^{select})} $\n",
        "    *   $ V(a^{select}) \\leftarrow (1 - \\alpha) \\times V(a^{select}) \\ + \\  \\alpha r $\n",
        "    *   $ n(a^{select}) \\leftarrow n(a^{select}) + 1 $\n",
        "    *   $ N = \\sum_{k=1}^{K} n(a_k) $\n",
        "\n",
        "$  $"
      ]
    },
    {
      "cell_type": "markdown",
      "metadata": {
        "id": "cSafnwFdE4_1"
      },
      "source": [
        "**3. RSの定義**\n",
        "\n",
        "$$\n",
        "\\def \\argmax {{\\mathop{\\rm arg~max}\\limits}}\n",
        "\\begin{eqnarray}\n",
        "    RS(a_i) &= \\frac{n(a_i)}{N}(V(a_i) - R) \\\\\n",
        "    a^{select} &\\leftarrow \\argmax_{a_k}(RS(a_k))\n",
        "\\end{eqnarray}\n",
        "$$"
      ]
    },
    {
      "cell_type": "markdown",
      "metadata": {
        "id": "uwVi7AHQI8Nb"
      },
      "source": [
        "**4. 非満足状況 (51:00~)**\n",
        "\n",
        "全ての行動 $a$ の行動期待値 $V(a_i)$ が $V(a_i) < R$ を満たすとき、非満足状況であると定義する。　\\\\\n",
        "RS の定義では、試行量とその総和の比率 $\\rho(a_i) = \\frac{n(a_i)}{N}$ が高ければ高いほど RS 価値関数が算出する評価値は低くなっていく。 \\\\\n",
        "2つの選択肢 $(a, b)$ があると仮定して、非満足状況では $a$ を試行するほど、$a$ の RS 評価値が低くなり、$b$ の RS 評価値は高くなる。その後 $b$ を試行すると $b$ の RS 評価値は低くなっていくので、$a$ の RS 評価値が高くなる。(まさに足の引っ張り合い) \\\\\n",
        "総試行量 $N$ が大きくなると RS 評価値はあまり変化しなくなる。そして**いずれ均衡点 $-Z$ に落ち着く。**(これはコード書いて確かめたい) \\\\\n",
        "総試行量 $N$ が大きい際の試行量とその総和の比率 $\\rho(a_i) = \\frac{n(a_i)}{N}$ を逆算することができる。($Z$ が分かるので) \\\\\n",
        "\n",
        "$$\n",
        "RS(a_i) = -Z \\\\\n",
        "\\rho(a_i) = \\frac{n(a_i)}{N} = \\frac{Z}{R - V(a_i)} \\quad \\cdots (10)\\\\\n",
        "$$\n",
        "\n",
        "**(10)式は1番重要らしい。(01:02:35~)** \\\\\n",
        "また $Z$ は以下の式で求まる。\n",
        "$$\n",
        "Z = \\frac{1}{ \\sum_{k=1}^{K} \\frac{1}{R - V(a_k)} }\n",
        "$$\n",
        "RS 均衡値 $-Z$ が基準値 $R$ と経験期待値 $V(a_k)$ から定義できる。 \\\\"
      ]
    },
    {
      "cell_type": "markdown",
      "metadata": {
        "id": "JyvYA8Eupa3l"
      },
      "source": [
        "**4.1 非満足状況下で regret を最適化する基準値**\n",
        "\n",
        "\"非満足下の　RS 均衡\"によって greedy な選択肢　$a_G$ とそれ以外 $a_j$ の RS 評価値が等しくなる。($-Z$ に帰着する) \\\\\n",
        "\n",
        "$$\n",
        "RS(a_G) = RS(a_j) \\quad \\cdots (15) \\\\\n",
        "\\begin{eqnarray}\n",
        "    n(a_G) \\times (V(a_G) - R) &= n(a_j) \\times (V(a_j) - R) \\quad \\cdots (16) \\\\\n",
        "    n(a_j) &= n(a_G) \\frac{(R - V(a_G))}{(R - V(a_j))} \\quad \\cdots (17) \\\\\n",
        "    R &= V(a_G) \\frac{ 1 - \\frac{V(a_j)}{V(a_G)} \\frac{n(a_j)}{n(a_G)} }{ 1 - \\frac{n(a_j)}{n(a_G)} } \\quad \\cdots (18) \\\\\n",
        "\\end{eqnarray}\n",
        "$$\n",
        "\n",
        "ここで $\\frac{V(a_j)}{V(a_G)}$ は $\\frac{V(a_j)}{V(a_G)} \\leq 1$ を満たす。($V(a_G)$ が greedy、非負なので) \\\\\n",
        "(15)に RS 定義式を当てると(16)になるし、(16)を式変形すると(17)になる。(17)を $R$ についてまとめると(18)になる。(確認済み) \\\\\n",
        "理想的な$\\frac{n(a_j)}{n(a_G)}$が分かれば、良い感じの基準値 $R$ が定義できる。 \\\\\n",
        "ここでは greedy な選択肢 $a_G$ とそれ以外 $a_j$ の潜在比率 $\\mu = \\frac{n(a_j)}{n(a_G)}$ を最適化することを目標にする。 \\\\\n",
        "<!-- 最適な比率 $\\mu^*$ を Chernoff-Hoeffding bound から推定する。(Thompson やら UCB の基となった？) \\\\ -->\n",
        "ここで、最適比率 $\\mu^*$ は必ずしも $\\mu^*\\leq1$ になると限らないと思われる(多分)。非満足状態下では、最良の選択肢 $a_G$ を引いても RS 評価値がマイナスになるので選び続けるということがないため、$n(a_j)  > n(a_G)$ はあり得る事象だと思う。個人的には $-Z$ に帰着するため大体同じ回数選ばれるのでは？と思うので　$\\mu^* = 1$　かな思っている。 \\\\\n",
        "ここで、総試行量 $N$ で $n^*(a_i)$ 割ると最適な試行割合　$\\rho^*_i$ が出てくる。\n",
        "$$\n",
        "\\mu^*_j = \\frac{n^*(a_j)}{N} \\frac{N}{n^*(a_G)} = \\frac{\\rho^*_j}{\\rho^*_G}\n",
        "$$\n",
        "ここでは、$\\rho^*_i$ が $V^*(a_i) \\geq V^*(a_G)$ となる確率と一致すると定義する。そして Chernoff-Hoeffding bound から以下の式を定義する。\n",
        "\n",
        "$$\n",
        "Pr(V(a_j) \\geq p_i + \\epsilon) \\leq exp(-n(a_j) D_{KL}((p_i + \\epsilon) \\ || \\ p_i)) \\quad \\cdots (21) \\\\\n",
        "\\begin{align}\n",
        "    \\rho^*_i\n",
        "    &= \\frac{n^*(a_i)}{N} \\\\\n",
        "    &= Pr(V^*(a_i) \\geq V^*(a_G)) \\\\\n",
        "    &= exp(-n(a_i) D_{KL}(V^*(a_i) \\ || \\ V^*(a_G))) \\quad \\cdots (22) \\\\\n",
        "\\end{align}\n",
        "$$\n",
        "(22)の2番目の式まで分かるが3つ目が何も分からん。(21)に至っては分からなすぎて辛い。\n",
        "\n",
        "ここで、ある選択肢が $a_G$ だった場合、\n",
        "$$\n",
        "\\begin{align}\n",
        "    \\rho^*_G\n",
        "    &= \\frac{n^*(a_G)}{N} \\\\\n",
        "    &= Pr(V^*(a_G) \\geq V^*(a_G)) \\\\\n",
        "    &= exp(-n(a_G) D_{KL}(V^*(a_G) \\ || \\ V^*(a_G))) \\\\\n",
        "    &= 1 \\quad \\cdots (23) \\\\\n",
        "\\end{align}\n",
        "$$\n",
        "$\\rho^*_k$ は目標の試行割合なので、$\\sum_{}\\rho^*_k = 1$ を満たさなければならないというわけではない。 \\\\\n",
        "近似的に最適な潜在選択比率の推定値 $\\mu^{CH}_j \\fallingdotseq \\mu^*_j$ は以下の定義になる。\n",
        "$$\n",
        "\\begin{align}\n",
        "    \\mu^{CH}_j\n",
        "    &= \\frac{n^*(a_j)}{N} \\frac{N}{n^*(a_G)} \\\\\n",
        "    &= exp(-n(a_j) D_{KL}(V^*(a_j) \\ || \\ V^*(a_G))) \\quad \\cdots (24) \\\\\n",
        "    &= \\rho^*_j ?? \\\\\n",
        "    R^{CH} &= max(V(a_G) \\frac{1 - \\frac{V(a_j)}{V(a_G)} \\mu^{CH}_j}{1 - \\mu^{CH}_j}) \\quad \\cdots (25) \\\\\n",
        "\\end{align}\n",
        "$$\n",
        "$\\mu^{CH}_j$ を用いて算出された基準値 $R$ を**「非満足基準値 $R^{CH}$」** とし、それを用いた RS 価値関数を **RS-CH** と呼ぶ。"
      ]
    },
    {
      "cell_type": "markdown",
      "metadata": {
        "id": "vt7dor4fjG3j"
      },
      "source": [
        "**5. RS-CHの多腕対応**\n",
        "\n",
        "RS-CH は、2本腕($a_j$ と $a_G$)バンディット問題しか使用できない。 \\\\"
      ]
    },
    {
      "cell_type": "markdown",
      "metadata": {
        "id": "2j2heKcMkUkx"
      },
      "source": [
        "**5.1 3本腕バンディット問題以上での非最適性**\n",
        "\n",
        "総試行量 $N$ が十分大きい場合、試行割合 $\\rho^*(a_i)$ は(26)になる。\n",
        "$$\n",
        "\\begin{align}\n",
        "    \\rho^*(a_i) &= exp(-n(a_i) D_{KL}(V^*(a_i) \\ || \\ V^*(a_i))) \\quad \\cdots (26) \\\\ \n",
        "    \\frac{\\rho^*(a_i)}{\\rho^*(a_j)} &= \\frac{exp(-n(a_i) D_{KL}(V^*(a_i) \\ || \\ V^*(a_i)))}{exp(-n(a_j) D_{KL}(V^*(a_j) \\ || \\ V^*(a_j)))} \\quad \\cdots (27) \\\\\n",
        "\\end{align}\n",
        "$$\n",
        "RS 価値関数に対して greedy な選択をし続けた最終的な試行割合 $\\rho^{RS}$ (RS 目的試行割合) は(28)である。\n",
        "$$\n",
        "\\begin{align}\n",
        "    \\rho^{RS}(a_i) &= \\frac{Z}{R - V(a_i)} \\quad \\cdots (28) \\\\\n",
        "    \\frac{\\rho^{RS}(a_i)}{\\rho^{RS}(a_j)} &= \\frac{R - V(a_j)}{R - V(a_i)} \\quad \\cdots (29) \\\\\n",
        "\\end{align}\n",
        "$$\n",
        "(29)が $N \\rightarrow \\infty$ の時に(27)を満たす基準値 $R$ が存在しない限り、RS は3本腕バンディット問題に最適ではない。"
      ]
    },
    {
      "cell_type": "markdown",
      "metadata": {
        "id": "Bk3gYcnJ9T6q"
      },
      "source": [
        "**参考文献**\n",
        "\n",
        "1. https://colab.research.google.com/github/kalz2q/mycolabnotebooks/blob/master/learnlatex.ipynb#scrollTo=jZ4nUZbeqf2I\n",
        "\n",
        "2. [LaTeX数学記号コマンド] https://medemanabu.net/latex/operators/\n",
        "\n",
        "3. [確率的バンディット問題] https://www.slideshare.net/jkomiyama/ss-34796421"
      ]
    }
  ]
}